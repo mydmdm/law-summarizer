{
 "cells": [
  {
   "cell_type": "code",
   "execution_count": 27,
   "metadata": {},
   "outputs": [],
   "source": [
    "import os\n",
    "import json\n",
    "import openai\n",
    "import tiktoken\n",
    "from langchain.chat_models import ChatOpenAI\n",
    "from langchain.chains.llm import LLMChain\n",
    "from langchain.prompts import PromptTemplate\n",
    "from langchain.schema import (\n",
    "    AIMessage,\n",
    "    HumanMessage,\n",
    "    SystemMessage\n",
    ")\n",
    "from langchain.document_loaders.word_document import Docx2txtLoader \n"
   ]
  },
  {
   "cell_type": "code",
   "execution_count": 8,
   "metadata": {},
   "outputs": [
    {
     "data": {
      "text/plain": [
       "AIMessage(content=\"Sure, here's a classic one for you:\\n\\nWhy don't scientists trust atoms?\\n\\nBecause they make up everything!\", additional_kwargs={}, example=False)"
      ]
     },
     "execution_count": 8,
     "metadata": {},
     "output_type": "execute_result"
    }
   ],
   "source": [
    "# test your API key and configuration\n",
    "with open('../../.secrets/yyds.json') as f:\n",
    "    secrets = json.load(f)\n",
    "os.environ['OPENAI_API_KEY'] = secrets['api_key']\n",
    "os.environ['OPENAI_API_BASE'] = secrets['api_base']\n",
    "\n",
    "llm = ChatOpenAI(temperature=0, model_name=\"gpt-3.5-turbo\")\n",
    "llm([HumanMessage(content=\"Tell me a joke.\")])"
   ]
  },
  {
   "cell_type": "code",
   "execution_count": 25,
   "metadata": {},
   "outputs": [
    {
     "name": "stdout",
     "output_type": "stream",
     "text": [
      "1899\n"
     ]
    }
   ],
   "source": [
    "loader = Docx2txtLoader('./Sample-Redemption-EN.docx')\n",
    "docs_all = loader.load()\n",
    "enc = tiktoken.encoding_for_model('gpt-3.5-turbo')\n",
    "tokens = enc.encode(docs_all[0].page_content)\n",
    "print(len(tokens))"
   ]
  },
  {
   "cell_type": "code",
   "execution_count": 29,
   "metadata": {},
   "outputs": [
    {
     "name": "stdout",
     "output_type": "stream",
     "text": [
      "{'words': 1424, 'document': 'REDEMPTION\\n\\n\\tRedemption by the Company.  Notwithstanding anything to the contrary herein, at any time after the earlier of (A) following the fifth (5th) year anniversary of the Series Y Original Issue Date, (B) any equity securities of any Group Company become redeemable, (C) any material adverse change in the regulatory environment which will result the Control Documents becomes invalid, or (D) any material breach by any Group Company or any Founder Party of any terms under the Transaction Documents, including without limitation, any breach of non-compete, non-solicitation, full time commitment obligations by the Founder (the “Redemption Start Date”), subject to the applicable laws of the Cayman Islands and, if so requested by the Series Y Majority, the Company shall redeem all or any part of the outstanding Preferred Shares held by such holder out of funds legally available therefor (the “Redemption”).  \\n\\nA.\\tThe price at which each Series Y Preferred Share is redeemed shall be (i) one hundred percent (100%) of the applicable Original Issue Price for the Series Y Preferred Shares, plus (ii) any accrued or declared but unpaid dividend in accordance with these Articles, plus (iii) accrued compounded interest at an interest rate of ten percent (10%) per annum commencing from the Series Y Original Issue Date based on the applicable Original Issue Price of the Series Y Preferred Shares, proportionally adjusted for share subdivisions, share dividends, reorganizations, reclassifications, consolidations or mergers (the “Series Y Redemption Price”).  If the Company does not have sufficient cash or funds legally available to redeem all of the Series Y Preferred Shares required to be redeemed, those assets or funds of the Company that are legally available shall nonetheless be paid and applied on the Redemption Date, to redeem the Series Y Preferred Shares from each holder thereof requesting for Redemption in proportion to the full amounts of the Series Y Redemption Price to which such requesting holder would otherwise be respectively entitled thereon, then the remaining Series Y Preferred Shares shall remain outstanding and entitled to all the rights, preferences and privileges provided in the Memorandum and these Articles and the Shareholders Agreement, and shall be carried forward and redeemed as soon as the Company has legally available funds to do so. \\n\\nB.\\tThe price at which each Series X Preferred Share is redeemed shall be (i) one hundred percent (100%) of the applicable Original Issue Price for the Series X Preferred Shares, plus (ii) any accrued or declared but unpaid dividend in accordance with these Articles, plus (iii) accrued simple interest at an interest rate of eight percent (8%) per annum commencing from the Series X Original Issue Date based on the applicable Original Issue Price of the Series X Preferred Shares, proportionally adjusted for share subdivisions, share dividends, reorganizations, reclassifications, consolidations or mergers (the “Series X Redemption Price”, together with the Series Y Redemption Price, the “Redemption Price”).  If the Company does not have sufficient cash or funds legally available to redeem all of the Series X Preferred Shares required to be redeemed, those assets or funds of the Company that are legally available shall nonetheless be paid and applied on the Redemption Date, to redeem the Series X Preferred Shares from each holder thereof requesting for Redemption in proportion to the full amounts of the Series X Redemption Price to which such requesting holder would otherwise be respectively entitled thereon, then the remaining Series X Preferred Shares shall remain outstanding and entitled to all the rights, preferences and privileges provided in the Memorandum and these Articles and the Shareholders Agreement, and shall be carried forward and redeemed as soon as the Company has legally available funds to do so.\\n\\nC.\\tNotice.  A notice of redemption (a “Redemption Notice”) by the Series Y Majority shall be given by hand or by mail to the Company at any time on or after the Redemption Start Date stating the date on or after the Redemption Start Date on which the Preferred Shares are to be redeemed (the “Redemption Date”), provided, however, that the Redemption Date shall be no earlier than the applicable Redemption Start Date or the date thirty (30) days after such Redemption Notice is given, whichever is later. Upon receipt of any such request, the Company shall promptly give written notice of the redemption request to each non-requesting holder of record of Preferred Shares stating the existence of such request, the Redemption Price, the Redemption Date and the mechanics of redemption, and each non-requesting holder of Preferred Shares shall have the right to participate in the Redemption by giving the Company no less than twenty (20) days’ notice stating the number of Preferred Shares to be redeemed. If on the Redemption Date, the Company’s assets or funds which are legally available are insufficient to pay in full the aggregate Redemption Price for all Preferred Shares requested to be redeemed, those assets or funds of the Company which are legally available shall be used to the extent permitted by applicable law to pay on such date: (i) first to redeem the Series Y Preferred Shares from each holder thereof requesting for Redemption in proportion to the full amounts of Series Y Redemption Price to which such requesting holder would otherwise be respectively entitled thereon, (ii) second, after the payment of the Series Y Redemption Price due to the holders of Series Y Preferred Shares in full, to redeem the Series X Preferred Shares from each holder thereof requesting for Redemption in proportion to the full amounts of Series X Redemption Price to which such requesting holder would otherwise be respectively entitled thereon, (iii) after the payment of the Redemption Price due to the holders of Series Y Preferred Shares and the holders of Series X Preferred Shares in full, to redeem other series of shares from each holder thereof requesting for Redemption (if applicable), and (iv) the remaining Preferred Shares to be redeemed shall remain outstanding and entitled to all the rights, preferences and privileges provided in these Articles and the Shareholders Agreement, and be carried forward and redeemed as soon as the Company has legally available funds to do so. Notwithstanding anything to the contrary contained herein, no other securities of the Company shall be redeemed unless and until the Company shall have redeemed all of the Series Y Preferred Shares requested to be redeemed pursuant to this Article and shall have paid all the Redemption Price for such Series Y Preferred Shares requested to be redeemed payable.  Additionally, in the event the Company failed to pay the entire Redemption Price in full in respect of all Series Y Preferred Shares required to be redeemed, then each redeeming holder holding any Series Y Preferred Shares to be redeemed shall be entitled to elect to convert the outstanding amount of Series Y Redemption Price payable into a one-year promissory note bearing a compounded interest at the rate of ten percent (10%) per annum secured by the pledge or charge of all outstanding Ordinary Shares created by the holders thereof. Thereafter, all assets or funds of the Company that becomes legally available for the redemption of Redemption Shares shall immediately be used to pay the redemption payment which the Company did not pay on the Redemption Date that such redemption payments were due.\\n\\n\\tA.   Surrender of Certificates.  Before any holder of Preferred Shares shall be entitled to redemption, such holder shall surrender his or her certificate or certificates representing such Preferred Shares to be redeemed to the Company in the manner and at the place designated by the Company for that purpose, and the Redemption Price shall be payable on the Redemption Date to the order of the person whose name appears on the Register of Members as the owner of such shares and each such certificate shall be cancelled and the Register of Members shall be updated accordingly on the Redemption Date. In the event less than all the shares represented by any such certificate are redeemed, a new certificate shall be promptly issued representing the unredeemed shares. Unless there has been a default in payment of the Redemption Price, upon cancellation of the certificate representing such Preferred Shares to be redeemed, all dividends on such Preferred Shares designated for redemption on the Redemption Date shall cease to accrue and all rights of the holders thereof, except the right to receive the Redemption Price thereof (including all accrued and unpaid dividend up to the relevant redemption date), without interest, shall cease and terminate and such Preferred Shares shall cease to be issued shares of the Company. If the Company fails to redeem any Preferred Shares for which redemption is requested, then during the period from the Redemption Date through the date on which such Preferred Shares are actually redeemed and the Redemption Price is actually made, in full, such Preferred Shares shall continue to be outstanding and be entitled to all rights and preferences of the Preferred Shares. After payment in full of the aggregate Redemption Price for all issued and outstanding Preferred Shares, all rights of the holders thereof as shareholders of the Company shall cease and terminate and such Preferred Shares shall be cancelled.\\n\\n\\tB.   Restriction on Distribution.  If the Company fails (for whatever reason) to redeem any Preferred Shares on its due date for redemption then, as from such date until the date on which the same are redeemed the Company shall not declare or pay any dividend nor otherwise make any distribution of or otherwise decrease its profits available for distribution.\\n\\n\\tC.   To the extent permitted by law, the Company shall procure that the profits of each subsidiary and affiliate of the Company for the time being legally available for distribution shall be paid to it by way of dividend or otherwise if and to the extent that, but for such payment, the Company would not itself otherwise have sufficient profits available for distribution to make any redemption of Preferred Shares required to be made.', 'text': \"The document outlines the redemption process for preferred shares held by shareholders in a company. It states that the company may redeem the shares under certain conditions, such as after a specified anniversary date or in the event of a material breach of the transaction documents. The redemption price for each series of preferred shares is determined based on the original issue price, accrued dividends, and interest. If the company does not have sufficient funds to redeem all the shares, it will redeem them proportionally based on the requesting holder's entitlement. The document also covers the process for giving notice of redemption, surrendering certificates, and the restrictions on distribution if the company fails to redeem the shares on time.\"}\n"
     ]
    }
   ],
   "source": [
    "summary_prompt = PromptTemplate.from_template(\"\"\"You're a helpful AI assistant to help lawers to write concise summary of given document.\n",
    "----the document is about {words} words long----\n",
    "{document}\n",
    "----the summary to be generated----\n",
    "\"\"\")\n",
    "if len(tokens) < 3*1024: # can be processed in a 4K window\n",
    "    chain = LLMChain(llm=llm, prompt=summary_prompt)\n",
    "    result = chain({'words': int(len(tokens)*0.75), 'document': docs_all[0].page_content})\n",
    "    summary_text = result['text']"
   ]
  },
  {
   "cell_type": "code",
   "execution_count": 34,
   "metadata": {},
   "outputs": [],
   "source": [
    "with open('./sample_summary.txt', 'w') as f:\n",
    "    f.write(summary_text)"
   ]
  }
 ],
 "metadata": {
  "kernelspec": {
   "display_name": "Python 3",
   "language": "python",
   "name": "python3"
  },
  "language_info": {
   "codemirror_mode": {
    "name": "ipython",
    "version": 3
   },
   "file_extension": ".py",
   "mimetype": "text/x-python",
   "name": "python",
   "nbconvert_exporter": "python",
   "pygments_lexer": "ipython3",
   "version": "3.11.4"
  },
  "orig_nbformat": 4
 },
 "nbformat": 4,
 "nbformat_minor": 2
}
